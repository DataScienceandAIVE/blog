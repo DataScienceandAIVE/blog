{
 "cells": [
  {
   "cell_type": "markdown",
   "metadata": {},
   "source": [
    "\n",
    "# RoadMap \n",
    "\n",
    "- toc:false- branch: master- badges: true- comments: true\n",
    "- author: Jhonathan Ortiz"
   ]
  },
  {
   "cell_type": "markdown",
   "metadata": {
    "colab_type": "text",
    "id": "8BuT1a_ySLJn"
   },
   "source": [
    "\n",
    "\n",
    "> **INTRODUCCIÓN**\n",
    "\n",
    "Si llegaste a este blog es porque te interesa el Machine learning y el Data Science el cual a partir de ahora lo llamaremos ML/DS. Es un tema que se ha puesto muy de moda en los últimos años y por supuesto muchas personas cada día se interesan en aprender sobre éstas disciplinas, sin embargo, para personas de habla hispana sin dominio en el inglés se les dificulta el acceso a la información y a personas sin experiencia añoran ese artículo en el cuál pueda conseguir un hoja de ruta que les indique el camino a seguir.\n",
    "\n",
    "\n",
    "Sin lugar a dudas el primer paso a dar en éste mundo es conocer la herramienta principal  con la cual vas trabajar y como quzá sabes o tal vez leiste esa herramienta es el Python, sin embargo python es un lenguaje muy versátil y de propósito general, nostros no quedaremos con la parte de Python que nos ayuda con las estructuras de datos y el análisis númerico."
   ]
  },
  {
   "cell_type": "markdown",
   "metadata": {
    "colab_type": "text",
    "id": "u1zgVDMWaF5C"
   },
   "source": [
    "\n",
    "\n",
    "> PRIMEROS PASOS\n",
    "\n",
    "Si tu experiencia con Python es nula primero debes empezar por la sintáxis del lenguaje. Por ejemplo: \n",
    "\n",
    "\n",
    "\n",
    "1.   Python y su modo iterativo y modo script.\n",
    "2.   Los identificadores.\n",
    "3.   Las palabras reservadas.\n",
    "4.   Las identaciones.\n",
    "5.   Estructura y comentarios.\n",
    "\n",
    "Cuando aprendemos solos se vuelve todo mas complicado y engorroso, lo mas sencillo es cometer errores y dejar puntos sin estudiar que a largo plazo te causarán mucho daño, por ello es importante estar atentos de cada paso que realizas y si tienes la posibilidad de un asesor recurre a el que seguro estará dispuesto a darte consejos para seguir un buen camino.\n",
    "\n",
    "\n",
    "\n",
    "\n",
    "\n",
    "\n",
    "\n",
    "\n",
    "\n",
    "\n",
    "\n",
    "\n",
    "\n"
   ]
  },
  {
   "cell_type": "code",
   "execution_count": 0,
   "metadata": {
    "colab": {
     "base_uri": "https://localhost:8080/",
     "height": 34
    },
    "colab_type": "code",
    "id": "eA6f3UEGiJjT",
    "outputId": "654898b8-3d52-433f-e152-ed1cfd2a002f"
   },
   "outputs": [
    {
     "name": "stdout",
     "output_type": "stream",
     "text": [
      "2\n"
     ]
    }
   ],
   "source": [
    "def sum(num1, num2):\n",
    "  result = num1 + num2\n",
    "  return result\n",
    "\n",
    "num1 = 1\n",
    "num2 = 1\n",
    "\n",
    "result = sum(num1, num2)\n",
    "print(result)"
   ]
  },
  {
   "cell_type": "markdown",
   "metadata": {
    "colab_type": "text",
    "id": "blTGlCGZkVey"
   },
   "source": [
    "Si no entendiste nada en el ejemplo de arriba no te preocupes su principal objetivo es demostrarte varias cosas.\n",
    "\n",
    "A diferencias de otros lenguajes los bloques de códigos se separa entre llaves, en Python a esas sangría que engloban ese bloque de código se le llaman identaciones y es muy importante tenerlas en claro porque al principio de nuestra aventura suele darnos muchos problemas.\n",
    "\n",
    "Las palabras como por ejemplo *def* o *return* son palabras reservadas para realizar acciones predefinidas en el lenguaje, reconocerlas es bastante sencillo porque cambiarán su color dependiendo del editor de codigo que estemos uutilizando."
   ]
  },
  {
   "cell_type": "markdown",
   "metadata": {
    "colab_type": "text",
    "id": "nan9Fk0zm5g7"
   },
   "source": [
    "\n",
    "\n",
    "> LOS DATOS\n",
    "\n",
    "Luego de tener claro los temas básicos es importante tomar en cuenta que para programar ML/DS las estructuras de datos, puesto que, son la columna vertebral de nuestros algoritmos. Python nos permite trabajar con datos enteros, con coma flotante, cadena de carácteres o string, sin embargo, lo importante es como manejamos estos datos y para ello nuevamente Python no ofrece contenedores tales como:\n",
    "\n",
    "\n",
    "1.   Listas.\n",
    "2.   Arrays.\n",
    "3.   Tuplas.\n",
    "4.   Diccionarios.\n",
    "\n",
    "Esos serán tus principales aliados al momentos de desarrollar los algoritmos, puesto que para analizar grandes volumenes de datos los debemos organizar de alguna manera y eso es lo que nos ofrecen éstos contenedores.\n",
    "\n",
    "Cada uno de estos contendores tiene métodos para acceder a sus valores, agregar nuevo o eliminarlos es importate conocer cada uno de éstos metodos.\n",
    "\n",
    "\n"
   ]
  },
  {
   "cell_type": "code",
   "execution_count": 0,
   "metadata": {
    "colab": {
     "base_uri": "https://localhost:8080/",
     "height": 312
    },
    "colab_type": "code",
    "id": "roBCyzlvprFl",
    "outputId": "6b870a1b-c786-4b14-81c1-c8a8fd86b51c"
   },
   "outputs": [
    {
     "name": "stdout",
     "output_type": "stream",
     "text": [
      "Haz añadido elementos en la lista de python\n",
      "[1, 3]\n",
      "\n",
      "La longitud de la lista es: \n",
      "2\n",
      "\n",
      "El indice del elemento seleccionado es :\n",
      "0\n",
      "\n",
      "Esta es tu nueva lista: \n",
      "['Hola', 1, 3]\n",
      "\n",
      "Elemento de la lista en la posicion 1: \n",
      "1\n",
      "\n",
      "Ahora esta es tu lista vacia: \n",
      "[]\n"
     ]
    }
   ],
   "source": [
    "#Define una lista vacia\n",
    "\n",
    "python_list = [] #Las listas en Python se definen entre corchetes []\n",
    "\n",
    "num1 = 1 \n",
    "num2 = 3\n",
    "\n",
    "#Para añadir elementos a la lista utlizamos el metodo append()\n",
    "\n",
    "python_list.append(num1)\n",
    "python_list.append(num2)\n",
    "\n",
    "print('Haz añadido elementos en la lista de python')\n",
    "print(python_list)\n",
    "print('')\n",
    "\n",
    "#Para verificar cuantos elemtos hay en tu lista utilizaos el metodo len()\n",
    "print('La longitud de la lista es: ')\n",
    "elements_qty = len(python_list)\n",
    "print(elements_qty) \n",
    "print('')\n",
    "\n",
    "#Verifica el indice de un valor específico con el metodo Index()\n",
    "\n",
    "index = python_list.index(1)\n",
    "print('El indice del elemento seleccionado es :')\n",
    "print(index)\n",
    "print('')\n",
    "\n",
    "#A la listas puedes añadir string y si quieres añadir el dato en cualquier posicion de la lista utiliza el medoto insert()\n",
    "char = 'Hola'\n",
    "python_list.insert(0, char) #En este caso insertamos en la posición 0 nuetra variable char\n",
    "print('Esta es tu nueva lista: ')\n",
    "print(python_list)\n",
    "print('')\n",
    "\n",
    "#Para acceder a un elemento de la lista\n",
    "\n",
    "element = python_list[1]\n",
    "print('Elemento de la lista en la posicion 1: ')\n",
    "print(element)\n",
    "print('')\n",
    "\n",
    "#Y si quieres eliminar todos los elemetos de la lista utliza el metodo clear()\n",
    "python_list.clear()\n",
    "print('Ahora esta es tu lista vacia: ')\n",
    "print(python_list)\n"
   ]
  },
  {
   "cell_type": "markdown",
   "metadata": {
    "colab_type": "text",
    "id": "w3uHEVu9t1kf"
   },
   "source": [
    "Éste es solo un pequeño ejemplo del poder que tienen las listas en Pytthon, por ello es importante que aprendas a utilizarlas muy bien y de esa manera puedas sacarle todo el provecho que ellas te dan.\n",
    "\n",
    "Las tuplas es otro de los contenedores de datos muy utilizadas en em ML/DS al igual que las listas nos sirven para empaquetar datos de distintos tipos con la diferencia que son inmutables, es decir, no se pueden cambiar o modificar. Son utiles para tener valores separados por coma, como por ejemplo en Python las coordenadas (x, y) las representamos con tuplas. Python te permite tener listas de tuplas y en este caso las tuplas pasan a ser elementos de una lista como la que vimos en el punto anterior."
   ]
  },
  {
   "cell_type": "code",
   "execution_count": 0,
   "metadata": {
    "colab": {
     "base_uri": "https://localhost:8080/",
     "height": 312
    },
    "colab_type": "code",
    "id": "zw3vjcxu8x0g",
    "outputId": "3296a24e-a49b-4cbf-e8a0-3ab509b7d3d3"
   },
   "outputs": [
    {
     "name": "stdout",
     "output_type": "stream",
     "text": [
      "Cantidad de Python en la tupla\n",
      "1\n",
      "\n",
      "Cantidad de ML en la tupla\n",
      "1\n",
      "\n",
      "Cantidad cincos en la tupla\n",
      "2\n",
      "\n",
      "Longitud de la tupla: \n",
      "5\n",
      "\n",
      "Un ejemplo de ello: \n",
      "ML Python DS\n",
      "\n",
      "Lista de tuplas: \n",
      "[(5, 5), (10, 10), (18, 18)]\n"
     ]
    }
   ],
   "source": [
    "#Define una tupla, notese que las tuplas se definen con parentesis\n",
    "my_tuple = ('Python', 'ML', 'DS', 5, 5)\n",
    "\n",
    "#Para contar la cantidad de un elemento X en una tuple utiliza el mentodo count(), Este método tambien es aplicable a listas\n",
    "python_count = my_tuple.count('Python')\n",
    "ML_count = my_tuple.count('ML')\n",
    "five_count = my_tuple.count(5)\n",
    "\n",
    "print('Cantidad de Python en la tupla')\n",
    "print(python_count)\n",
    "print('')\n",
    "\n",
    "print('Cantidad de ML en la tupla')\n",
    "print(ML_count)\n",
    "print('')\n",
    "\n",
    "print('Cantidad cincos en la tupla')\n",
    "print(five_count)\n",
    "\n",
    "#El metodo len() nos devuelve la longitud de la tupla\n",
    "length = len(my_tuple)\n",
    "print('')\n",
    "print('Longitud de la tupla: ')\n",
    "print(length)\n",
    "print('')\n",
    "\n",
    "#Podemos asignar los elementos de la tupla a variables\n",
    "python, ml, ds, x, y = my_tuple\n",
    "print('Un ejemplo de ello: ')\n",
    "print(ml, python, ds)\n",
    "print('')\n",
    "#Podemos crear una lista de tuplas\n",
    "\n",
    "tuple_1 = (5,5)\n",
    "tuple_2= (10, 10)\n",
    "tuple_3 = (18, 18)\n",
    "\n",
    "\n",
    "tuple_list = [tuple_1, tuple_2, tuple_3]\n",
    "print('Lista de tuplas: ')\n",
    "print(tuple_list)"
   ]
  },
  {
   "cell_type": "markdown",
   "metadata": {
    "colab_type": "text",
    "id": "pmE2QrL-LTMs"
   },
   "source": [
    "Con éstos dos ejemplos te invito a seguir esta ruta haciendo los mismo análisis e implementación con los diccionarios y los arrays y no te detengas hasta tener un sólido conocimiento de ello, recuerda que éstos serán los cimientos de tus algoritmos."
   ]
  },
  {
   "cell_type": "markdown",
   "metadata": {
    "colab_type": "text",
    "id": "ONp43xNpQz-P"
   },
   "source": [
    "\n",
    "\n",
    "> Bucles y condicionales\n",
    "\n",
    "Son parte fundamental de la programación y es de vital importancía compenderlos de manera microscopica.\n",
    "\n",
    "Los condicionales, son la estructura de control del porgrama y con ello puedes ejecutar intrucciones siempre y cuando se cumpla una condición. \n",
    "(*if*, *else*, *elif*)\n",
    "\n",
    "Los bucles son bloques de codigo que se ejecutan de manera cíclica hasta cumplir un objetivo. \n",
    "(*for*, *while*)\n",
    "\n",
    "\n",
    "\n"
   ]
  },
  {
   "cell_type": "code",
   "execution_count": 0,
   "metadata": {
    "colab": {
     "base_uri": "https://localhost:8080/",
     "height": 502
    },
    "colab_type": "code",
    "id": "4DwkbnBsVjHP",
    "outputId": "836063e1-f1f6-4453-c303-ba397cf6cca1"
   },
   "outputs": [
    {
     "name": "stdout",
     "output_type": "stream",
     "text": [
      "Elementos de una lista\n",
      "(5, 5)\n",
      "(10, 10)\n",
      "(18, 18)\n",
      "\n",
      "El bucle for como contador\n",
      "0\n",
      "1\n",
      "2\n",
      "3\n",
      "4\n",
      "5\n",
      "6\n",
      "7\n",
      "8\n",
      "9\n",
      "\n",
      "Función del bucle while\n",
      "0\n",
      "1\n",
      "2\n",
      "3\n",
      "4\n",
      "5\n",
      "6\n",
      "7\n",
      "8\n",
      "9\n"
     ]
    }
   ],
   "source": [
    "#Podemos hacer print de manera iterativa a los elementos de la lista que definimos anteriormente\n",
    "\n",
    "print('Elementos de una lista')\n",
    "for i in tuple_list:\n",
    "  print(i)\n",
    "\n",
    "\n",
    "#Podríamos leer el siguiente extracto de código de la siguiente forma:\n",
    "#Para i en my_list imprimir i. Tomar en cuenta que el trabajo del bucle for\n",
    "#es recorrer bien sea lista, o hacer iteraciones un numero predefinido de veces \n",
    "#como veremos ahora.\n",
    "\n",
    "\n",
    "print('')\n",
    "print('El bucle for como contador')\n",
    "for i in range(0, 10):\n",
    "  print(i)\n",
    " \n",
    "\n",
    "\n",
    "\n",
    "print('')\n",
    "print('Función del bucle while')\n",
    "var = 0 \n",
    "while var < 10:\n",
    "  print(var)\n",
    "  var += 1\n"
   ]
  },
  {
   "cell_type": "code",
   "execution_count": 0,
   "metadata": {
    "colab": {
     "base_uri": "https://localhost:8080/",
     "height": 104
    },
    "colab_type": "code",
    "id": "1jgVCvXDYYT5",
    "outputId": "b1397bfc-268d-4c25-849f-4776503953e9"
   },
   "outputs": [
    {
     "name": "stdout",
     "output_type": "stream",
     "text": [
      "Resultado si se cumple la conducion\n",
      "3\n",
      "\n",
      "Resultado si no se cumple la condicion\n",
      "1\n"
     ]
    }
   ],
   "source": [
    "def math(num1, num2):\n",
    "  if num1 > num2:\n",
    "    return num1 - num2\n",
    "  else:\n",
    "    return num1 + num2\n",
    "\n",
    "result_1 = math(1, 2)\n",
    "result_2 = math(2, 1)\n",
    "\n",
    "print('Resultado si se cumple la conducion')\n",
    "print(result_1)\n",
    "print('')\n",
    "print('Resultado si no se cumple la condicion')\n",
    "print(result_2)\n",
    "\n"
   ]
  },
  {
   "cell_type": "markdown",
   "metadata": {
    "colab_type": "text",
    "id": "WCFeOSe429gO"
   },
   "source": [
    "\n",
    "\n",
    ">Visualización de datos\n",
    "\n",
    "Es una práctica que nos permite traducir información en nuestros datos que en ocasiones puede estar oculta a un gráfico, pueden ser mapas ó gráficos. El objetivo principal de ésta práctica es análisis de los datos, indetificar patrones o tal vez tendencias, tambien valores a típicos y ésto nos ayudará a decidir que camino vamos a tomar para resolver el problema que vamos a enfrentar.\n",
    "\n",
    "Dentro del ML/DS trataremos con muy grandes volúmenes de datos ello hace casi imposible analizar los datos en bruto y sin la ayuda de los gráficos, por esa razón, es importate que las personas que aspiran a ser profesionales en ésta disciplina tengan un sólida base con la visualización de los datos y eso te va a resolver muchos problemas.\n",
    "\n",
    "En Python hay librerías que nos ayudan a visualizar los datos y las principales utilizadas por la mayoría de los científicos de datos son *Matplotlib* y *Seaborn* sin duda alguna recomiendo profundizar en las implementaciones con éstas librerías.\n"
   ]
  },
  {
   "cell_type": "markdown",
   "metadata": {
    "colab_type": "text",
    "id": "m_9SF1k-bggS"
   },
   "source": [
    "Es importante que profundices en el tema hasta que seas nivel experto, dejar brechas en el aprendizaje puede cobrar factura más adelante al enfrentarte a problemas complejos, por esa razón te invito a navegar en la web  conseguirás mucha información sobre éstos temas."
   ]
  },
  {
   "cell_type": "markdown",
   "metadata": {
    "colab_type": "text",
    "id": "TNVDA6iYdfp2"
   },
   "source": [
    "\n",
    "\n",
    "> Clases y funciones\n",
    "\n",
    "Una función es una porción o bloque de código reutilizable que se encarga de realizar una determinada tarea.\n",
    "\n",
    "Una clase es un tipo de dato definido por el usuario, y la crear instancias de una clase hace relación a la creación de objetos de ese tipo. Las clases y los objetos son considerados los principales bloques de desarrollo para Python, el cual es un lenguaje de programación orientado a objetos.\n",
    "\n",
    "Como puedes notar es algo más complejo de entender pero dominarlas es lo que nos dará esa soltura para escribir código y resolver problemas. Aunque pueda parecer muy complicado no te desanimes al principio son algo engorrosas pero sin duda es la clave para hacerte la vida mucho más sencilla al momento de escribir código.\n",
    "\n",
    "\n",
    "\n",
    "Veamos un pequeño ejemplo de clases:\n",
    "\n"
   ]
  },
  {
   "cell_type": "code",
   "execution_count": 0,
   "metadata": {
    "colab": {
     "base_uri": "https://localhost:8080/",
     "height": 52
    },
    "colab_type": "code",
    "id": "-h922r2lgsgh",
    "outputId": "2a406294-66dd-427c-983c-bccffc16bd6a"
   },
   "outputs": [
    {
     "name": "stdout",
     "output_type": "stream",
     "text": [
      "Jorge\n",
      "Universidad de la vida\n"
     ]
    }
   ],
   "source": [
    "class Person:\n",
    "    name = ''\n",
    "    school = ''\n",
    "     \n",
    "    def print_information(self, name, school):\n",
    "        print(self.name)\n",
    "        print(self.school)\n",
    "             \n",
    "jorge = Person()\n",
    "jorge.name = 'Jorge'\n",
    "jorge.school = 'Universidad de la vida'\n",
    "jorge.print_information(jorge.name, jorge.school)"
   ]
  },
  {
   "cell_type": "markdown",
   "metadata": {
    "colab_type": "text",
    "id": "mS9MxxglhxV9"
   },
   "source": [
    "\n",
    "\n",
    "> ¿Y ahora que sigue? \n",
    "\n",
    "Si dominas la sintaxis, tipos de datos, funciones y clases ya estás listo para empezar con los algoritmos básicos de Machine Learning. \n",
    "Mi recomendacion muy personal es que siempre escribas código si aprendes un nuevo algoritmo escribe código, pruebalo hazle cambios y juega, esa es la única forma en la que el conocimiento adquirido quedará impregnado en tu memoria.\n",
    "\n"
   ]
  },
  {
   "cell_type": "markdown",
   "metadata": {
    "colab_type": "text",
    "id": "zUvLWk7Xje-Z"
   },
   "source": [
    "Puedes seguirnos en nuestra cuenta de twiter y unirte a nuestra comunidad, tenemos sesiones de estudio grupales, mentores que pueden ayudarte a resolver cualquier duda que tengas.\n",
    "\n",
    "twitter: https://twitter.com/ia_en_venezuela"
   ]
  }
 ],
 "metadata": {
  "colab": {
   "name": "2020-05-12-Roadmap.ipynb",
   "provenance": []
  },
  "kernelspec": {
   "display_name": "Python 3",
   "language": "python",
   "name": "python3"
  },
  "language_info": {
   "codemirror_mode": {
    "name": "ipython",
    "version": 3
   },
   "file_extension": ".py",
   "mimetype": "text/x-python",
   "name": "python",
   "nbconvert_exporter": "python",
   "pygments_lexer": "ipython3",
   "version": "3.6.9"
  }
 },
 "nbformat": 4,
 "nbformat_minor": 1
}
